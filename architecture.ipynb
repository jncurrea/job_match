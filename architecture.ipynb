{
 "cells": [
  {
   "cell_type": "markdown",
   "metadata": {},
   "source": [
    "# Extract code from resumes"
   ]
  },
  {
   "cell_type": "code",
   "execution_count": 17,
   "metadata": {},
   "outputs": [],
   "source": [
    "import pdfplumber\n",
    "import docx2txt\n",
    "\n",
    "def extract_text_from_pdf(pdf_path):\n",
    "    with pdfplumber.open(pdf_path) as pdf:\n",
    "        return \"\\n\".join([page.extract_text() for page in pdf.pages if page.extract_text()])\n",
    "\n",
    "def extract_text_from_docx(docx_path):\n",
    "    return docx2txt.process(docx_path)\n",
    "\n",
    "def extract_resume_text(file_path):\n",
    "    if file_path.endswith(\".pdf\"):\n",
    "        return extract_text_from_pdf(file_path)\n",
    "    elif file_path.endswith(\".docx\"):\n",
    "        return extract_text_from_docx(file_path)\n",
    "    else:\n",
    "        raise ValueError(\"Unsupported file format! Use PDF or DOCX.\")"
   ]
  },
  {
   "cell_type": "markdown",
   "metadata": {},
   "source": [
    "# Convert Resume and JD into embeddings"
   ]
  },
  {
   "cell_type": "code",
   "execution_count": null,
   "metadata": {},
   "outputs": [],
   "source": [
    "import os\n",
    "os.environ[\"OPENAI_API_KEY\"] = \"your_api_key\""
   ]
  },
  {
   "cell_type": "code",
   "execution_count": 19,
   "metadata": {},
   "outputs": [],
   "source": [
    "from langchain.embeddings.openai import OpenAIEmbeddings\n",
    "\n",
    "embeddings = OpenAIEmbeddings()\n",
    "\n",
    "def get_text_embedding(text):\n",
    "    return embeddings.embed_query(text)"
   ]
  },
  {
   "cell_type": "markdown",
   "metadata": {},
   "source": [
    "# LLM training for recs"
   ]
  },
  {
   "cell_type": "code",
   "execution_count": 20,
   "metadata": {},
   "outputs": [],
   "source": [
    "llm_context = \"\"\"\n",
    "You are an experienced headhunter specializing in helping early-career and associate-level professionals\n",
    "optimize their resumes for job applications. Your goal is to analyze a candidate's resume and compare it to\n",
    "a job description to provide insightful recommendations.\n",
    "\n",
    "Your output should be structured as follows:\n",
    "\n",
    "{\n",
    "  \"key_strengths\": [\n",
    "    \"Highlight relevant skills & experiences in the resume, focusing on alignment with the job description.\"\n",
    "  ],\n",
    "  \"missing_skills\": [\n",
    "    \"Identify critical missing skills based on the JD, prioritizing technical skills, tools, or industry-specific knowledge.\"\n",
    "  ],\n",
    "  \"recommendations\": [\n",
    "    \"Provide specific suggestions on improving the resume. Include example modifications such as what bullet point to update and how it should be reworded.\"\n",
    "  ]\n",
    "}\n",
    "\n",
    "Use clear, professional, and motivating language. Avoid generic terms and focus on industry-specific skills.\n",
    "Your output should be worded towards the candidate using phrases such as:\n",
    "- 'You should consider adding...'\n",
    "- 'Your resume would benefit from including...'\n",
    "- 'It may be helpful to highlight your experience with...'\n",
    "\n",
    "Ensure the response is a **valid JSON object** with no additional text.\n",
    "STRICT RULE: Do not include extra commentary, explanations, or markdown formatting. ONLY return the JSON response.\n",
    "\"\"\""
   ]
  },
  {
   "cell_type": "code",
   "execution_count": 21,
   "metadata": {},
   "outputs": [],
   "source": [
    "from openai import OpenAI\n",
    "import json\n",
    "\n",
    "client = OpenAI()\n",
    "\n",
    "def analyze_resume_with_llm(resume_text, jd_text):\n",
    "    prompt = f\"\"\"\n",
    "    {llm_context}\n",
    "\n",
    "    Candidate's Resume:\n",
    "    {resume_text}\n",
    "\n",
    "    Job Description:\n",
    "    {jd_text}\n",
    "\n",
    "    Analyze the resume based on the job description and return the structured JSON response.\n",
    "    \"\"\"\n",
    "\n",
    "    response = client.chat.completions.create(\n",
    "        model=\"gpt-4\",\n",
    "        messages=[{\"role\": \"user\", \"content\": prompt}]\n",
    "    )\n",
    "\n",
    "    llm_output = response.choices[0].message.content.strip()\n",
    "    \n",
    "    #print(\"\\n🔍 Raw LLM Output:\\n\", llm_output)  # DEBUG: Print raw response\n",
    "\n",
    "    try:\n",
    "        parsed_response = json.loads(llm_output)\n",
    "        return parsed_response  # Now returns structured data\n",
    "    except json.JSONDecodeError:\n",
    "        print(\"🚨 Error: LLM response is not valid JSON.\")\n",
    "        return None\n"
   ]
  },
  {
   "cell_type": "markdown",
   "metadata": {},
   "source": [
    "# Cosine similarity for % matching"
   ]
  },
  {
   "cell_type": "code",
   "execution_count": 22,
   "metadata": {},
   "outputs": [],
   "source": [
    "from sklearn.metrics.pairwise import cosine_similarity\n",
    "import numpy as np\n",
    "\n",
    "def calculate_match_score(resume_text, jd_text):\n",
    "    resume_embedding = get_text_embedding(resume_text)\n",
    "    jd_embedding = get_text_embedding(jd_text)\n",
    "\n",
    "    match_score = cosine_similarity([resume_embedding], [jd_embedding])[0][0]\n",
    "    return round(match_score * 100, 2)  # Convert to percentage"
   ]
  },
  {
   "cell_type": "markdown",
   "metadata": {},
   "source": [
    "# Find missing key words"
   ]
  },
  {
   "cell_type": "code",
   "execution_count": 23,
   "metadata": {},
   "outputs": [],
   "source": [
    "def find_missing_skills(resume_text, jd_text):\n",
    "    analysis = analyze_resume_with_llm(resume_text, jd_text)\n",
    "    \n",
    "    # Extract \"Missing Skills\" section from the LLM response\n",
    "    missing_skills_start = analysis.find(\"**Missing skills**:\")\n",
    "    recommendations_start = analysis.find(\"**Actionable recommendations**:\")\n",
    "\n",
    "    if missing_skills_start != -1 and recommendations_start != -1:\n",
    "        missing_skills = analysis[missing_skills_start + len(\"**Missing skills**:\"): recommendations_start].strip()\n",
    "        return missing_skills\n",
    "    else:\n",
    "        return \"No missing skills detected.\""
   ]
  },
  {
   "cell_type": "markdown",
   "metadata": {},
   "source": [
    "# Test Case"
   ]
  },
  {
   "cell_type": "code",
   "execution_count": 24,
   "metadata": {},
   "outputs": [
    {
     "name": "stdout",
     "output_type": "stream",
     "text": [
      "\n",
      "✅ **Match Score:** 77.92%\n",
      "\n",
      "💪 **Key Strengths:**\n",
      "   • You have a strong background in data analysis with tools like Python, SQL, SAS and visualization tools like Power BI and Tableau which aligns well with the job requirements.\n",
      "   • Your experience in using data to inform business strategies, as demonstrated at Bank of Bogota and Merqueo, is highly relevant to the role.\n",
      "   • Your exposure to working with cross-functional teams and presenting insights to executive leadership speaks to your ability to communicate effectively with non-technical business partners and stakeholders.\n",
      "\n",
      "🔍 **Missing Skills:**\n",
      "   • Your resume lacks explicit mention of experience with Azure, although you have used comparable tools such as AWS.\n",
      "   • There's no mention of experience with Power Automate which is named in the job description.\n",
      "   • While you have worked on multiple data projects, it would be beneficial to specify instances where you have actively developed and implemented data collection processes, modeling and automated reporting tools.\n",
      "\n",
      "💡 **Recommendations:**\n",
      "   • You should consider adding any experience with Microsoft Azure and Power Automate, if applicable. Particularly under the 'Skills' section or as a part of your project or work experiences.\n",
      "   • It would be beneficial to highlight the specific processes for accurate data collection, modeling, analysis, visualization, and reporting you have engaged in to bring out your alignment with the role better.\n",
      "   • If possible, include an experience where you conducted market analysis to identify industry trends, customer behaviors, and competitive positioning, as it is a specific aspect mentioned in the job description.\n",
      "   • Last but not least, consider describing situations where you identified process improvements and optimization opportunities in analytics and reporting. This will exhibit your ability to enhance existing procedures.\n"
     ]
    }
   ],
   "source": [
    "if __name__ == \"__main__\":\n",
    "    resume_path = \"Currea_Jose_Resume.pdf\"\n",
    "    jd_text = \"\"\"Position Summary\n",
    "\n",
    "The Senior Analyst, Strategy & Analytics is responsible for the development and implementation of data projects and automated reporting tools. This role will develop processes for accurate data collection, modeling, analysis, visualization, and reporting. This role is part of the International Planning organization and contributes to initiatives that drive sales and revenue growth, increased profitability, and long-term strategies across international markets. Success in this role will require that the candidate have strong technical skills as well as the ability to partner and communicate effectively with international stakeholders and cross-functional business teams.\n",
    "\n",
    "Essential Duties And Responsibilities\n",
    "\n",
    " Assist in the development of data-driven strategies and tactics to optimize revenue, return on investment, and profitability. \n",
    " Develop reporting that measures performance trends and drivers, forecast and revenue track, and revenue performance by channel. \n",
    " Collect, analyze, and interpret data to support business strategies, uncover insights, and identify trends. \n",
    " Assist in developing and implementing strategies that align with the organization’s goals and objectives. Support strategic projects with data analysis and performance reporting. \n",
    " Contribute to initiatives that generate new insights through analytics. Ensure those insights translate into actionable plans that create revenue and growth opportunities. \n",
    " Prepare and present comprehensive reports and executive presentations that summarize insights and recommendations to stakeholders at all levels. \n",
    " Develop clear and impactful recommendations based on data findings that address key business challenges and opportunities for improvement. \n",
    " Conduct market analysis to identify industry trends, customer behaviors, and competitive positioning, helping the organization stay ahead of the curve. \n",
    " Translate complex data into clear, actionable recommendations that inform key business decisions. \n",
    " Present insights to executive leadership in a clear and compelling manner to facilitate decision-making. \n",
    " Identify process improvements and optimization opportunities across analytics and reporting functions. \n",
    " Work closely with IT and Enterprise BI teams to ensure data quality and stability, and implementation of new reporting tools and improvements. \n",
    " Is part of a team responsible for reporting, analysis, and visualization for international markets and in-market sales and commercial teams. \n",
    "\n",
    "Qualifications, Knowledge, And Skills\n",
    "\n",
    " Bachelor’s degree in computer science, analytics, mathematics, statistics, or similar \n",
    " 2+ years’ experience leveraging data to drive business decision making \n",
    " Bachelor’s degree in computer science, analytics, mathematics, statistics, or similar \n",
    " 2+ years’ experience leveraging data to drive business decision making. \n",
    " Strong knowledge of SQL \n",
    " Experience in data visualization tools such as Tableau, Power BI \n",
    " Knowledge of AWS, Azure, and data analytics tools like SQL, SAS, Python and Databricks \n",
    " Experience with Power Automate \n",
    " Excellent written and oral communication skills \n",
    " Ability to work well with non-technical business partners. \n",
    " Ability to deliver results in timely manner with consistency and precision. \n",
    " Ability to work independently or as part of a collaborative team. \n",
    " Ability to tackle challenging projects and to quickly gain knowledge needed to deliver results. \n",
    " Willingness and ability to tackle challenging projects and to quickly gain knowledge needed to deliver results. \n",
    "\n",
    "We know there's a lot to consider. As you go through the application process, our recruiters will be glad to provide guidance, and more relevant details to answer any additional questions. Thank you again for your interest in Royal Caribbean Group. We'll hope to see you onboard soon!\"\"\"\n",
    "\n",
    "    resume_text = extract_resume_text(resume_path)\n",
    "    if not resume_text.strip():\n",
    "        print(\"🚨 Error: Resume text is empty! Check the extraction function.\")\n",
    "        exit()\n",
    "\n",
    "    match_score = calculate_match_score(resume_text, jd_text)\n",
    "\n",
    "    parsed_response = analyze_resume_with_llm(resume_text, jd_text)\n",
    "\n",
    "    if parsed_response:\n",
    "        key_strengths = parsed_response.get(\"key_strengths\", [])\n",
    "        missing_skills = parsed_response.get(\"missing_skills\", [])\n",
    "        recommendations = parsed_response.get(\"recommendations\", [])\n",
    "\n",
    "        print(f\"\\n✅ **Match Score:** {match_score}%\\n\")\n",
    "\n",
    "        print(\"💪 **Key Strengths:**\")\n",
    "        for strength in key_strengths:\n",
    "            print(f\"   • {strength}\")\n",
    "\n",
    "        print(\"\\n🔍 **Missing Skills:**\")\n",
    "        if missing_skills:\n",
    "            for skill in missing_skills:\n",
    "                print(f\"   • {skill}\")\n",
    "        else:\n",
    "            print(\"   ✅ No missing skills detected!\")\n",
    "\n",
    "        print(\"\\n💡 **Recommendations:**\")\n",
    "        for recommendation in recommendations:\n",
    "            print(f\"   • {recommendation}\")\n",
    "\n",
    "    else:\n",
    "        print(\"🚨 Error processing the LLM response. Ensure JSON format is correct.\")\n"
   ]
  },
  {
   "cell_type": "code",
   "execution_count": null,
   "metadata": {},
   "outputs": [],
   "source": []
  }
 ],
 "metadata": {
  "kernelspec": {
   "display_name": "r-tensorflow",
   "language": "python",
   "name": "python3"
  },
  "language_info": {
   "codemirror_mode": {
    "name": "ipython",
    "version": 3
   },
   "file_extension": ".py",
   "mimetype": "text/x-python",
   "name": "python",
   "nbconvert_exporter": "python",
   "pygments_lexer": "ipython3",
   "version": "3.12.4"
  }
 },
 "nbformat": 4,
 "nbformat_minor": 2
}
